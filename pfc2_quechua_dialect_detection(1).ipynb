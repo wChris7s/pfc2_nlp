{
  "nbformat": 4,
  "nbformat_minor": 0,
  "metadata": {
    "colab": {
      "provenance": [],
      "gpuType": "T4"
    },
    "kernelspec": {
      "name": "python3",
      "display_name": "Python 3"
    },
    "language_info": {
      "name": "python"
    }
  },
  "cells": [
    {
      "cell_type": "markdown",
      "source": [
        "## Fuente de datos\n",
        "### MT560\n",
        "* Recopilación de diferentes corpus en inglés a un idioma de destino.\n",
        "* La recopilación de este corpus tiene las siguientes fuentes para diferentes idiomas, el resto de información puede ser encontrado en: [MTData.recipes](https://github.com/thammegowda/016-many-eng-v2/blob/2bf3e75ce/data/mtdata.recipes.yml)\n",
        "\n",
        "| Fuentes |\n",
        "|-------|\n",
        "| JW300 |\n",
        "| OPUS100  |\n",
        "| OPUSGnome |\n",
        "| OPUSUbuntu |\n",
        "| OPUS-bibleuedin |\n",
        "| OPUS-wikimedia |"
      ],
      "metadata": {
        "id": "SN3taUUhohwB"
      }
    },
    {
      "cell_type": "markdown",
      "source": [
        "## Construcción del Corpus\n",
        "### Variantes del quechua\n",
        "\n",
        "| ISO 639-3 | Nombre                                  | País      | Oraciones | Tokens    |\n",
        "|-----------|-----------------------------------------|-----------|-----------|-----------|\n",
        "| QUZ       | Cusco Quechua                           | Perú      | 127,408   | 1,649,454 |\n",
        "| QUY       | Ayacucho Quechua                        | Perú      | 113,702   | 1,402,781 |\n",
        "| QVI       | Imbabura Highland Quichua               | Ecuador   | 50,527    | 672,711   |\n",
        "| QUG       | Chimborazo Highland Quichua             | Ecuador   | 20,272    | 247,947   |\n",
        "| QUW       | Tena Lowland Quichua                    | Ecuador   | 15,674    | 292,905   |\n",
        "\n",
        "### Otras lenguas indígenas\n",
        "\n",
        "| ISO 639-3 | Nombre              | País             | Oraciones | Tokens    |\n",
        "|-----------|---------------------|------------------|-----------|-----------|\n",
        "| YUA       | Yucateco            | México           | 168,299   | 3,524,830 |\n",
        "| GUG       | Paraguayan Guaraní  | Paraguay         | 143,391   | 2,151,216 |\n",
        "| TZO       | Tzotzil             | México           | 140,124   | 2,993,791 |\n",
        "| AYM       | Aymara              | Bolivia/Perú     | 138,760   | 1,939,507 |\n",
        "| MRI       | Maori               | Nueva Zelanda    | 62,963    | 2,151,493 |\n"
      ],
      "metadata": {
        "id": "60wugwiOgXiI"
      }
    },
    {
      "cell_type": "code",
      "source": [
        "import pandas as pd\n",
        "import matplotlib.pyplot as plt\n",
        "import numpy as np"
      ],
      "metadata": {
        "id": "vEq5TcrtCGmZ"
      },
      "execution_count": 3,
      "outputs": []
    },
    {
      "cell_type": "code",
      "source": [
        "from google.colab import drive\n",
        "drive.mount('/content/drive')"
      ],
      "metadata": {
        "colab": {
          "base_uri": "https://localhost:8080/"
        },
        "id": "FxuwvAm7ATdS",
        "outputId": "f49933e6-4c42-455a-de12-65c20c2ed0fd"
      },
      "execution_count": 4,
      "outputs": [
        {
          "output_type": "stream",
          "name": "stdout",
          "text": [
            "Drive already mounted at /content/drive; to attempt to forcibly remount, call drive.mount(\"/content/drive\", force_remount=True).\n"
          ]
        }
      ]
    },
    {
      "cell_type": "code",
      "source": [
        "basePath = \"/content/drive/MyDrive/corpus_quechua\""
      ],
      "metadata": {
        "id": "A0tPFjTjAVEz"
      },
      "execution_count": 3,
      "outputs": []
    },
    {
      "cell_type": "markdown",
      "source": [
        "## Load and clean data"
      ],
      "metadata": {
        "id": "YsaG9PNLgViA"
      }
    },
    {
      "cell_type": "code",
      "source": [
        "import pandas as pd\n",
        "import matplotlib.pyplot as plt\n",
        "import nltk\n",
        "from nltk.corpus import stopwords\n",
        "nltk.download('wordnet')\n",
        "nltk.download('punkt_tab')\n",
        "from nltk.tokenize import word_tokenize\n",
        "import re\n",
        "\n",
        "basePath = \"/content/drive/MyDrive/corpus_quechua\"\n",
        "df = pd.read_csv(f\"{basePath}/filtered_corpus.csv\")\n",
        "\n",
        "tokenize = lambda x: word_tokenize(x)\n",
        "\n",
        "def clean_text(text):\n",
        "    text = str(text).lower()\n",
        "    text = re.sub(r\"[^a-záéíóúüñ' ]\", \"\", text)\n",
        "    text = re.sub(r\"\\s+\", \" \", text)\n",
        "    return text.strip()\n",
        "\n",
        "def remove_stopwords(tokens):\n",
        "    return [word for word in tokens if word.lower() not in all_stop_words]\n",
        "\n",
        "df[\"Sentence\"] = df[\"Sentence\"].apply(clean_text)\n",
        "\n",
        "lang_names = {\n",
        "    \"quz\": \"Cusco\\nQuechua\",\n",
        "    \"quy\": \"Ayacucho\\nQuechua\",\n",
        "    \"qvi\": \"Imbabura Highland\\nQuichua\",\n",
        "    \"qug\": \"Chimborazo Highland\\nQuichua\",\n",
        "    \"quw\": \"Tena Lowland\\nQuichua\",\n",
        "    \"yua\": \"Yucateco\",\n",
        "    \"gug\": \"Paraguayan\\nGuaraní\",\n",
        "    \"tzo\": \"Tzotzil\",\n",
        "    \"aym\": \"Aymara\",\n",
        "    \"mri\": \"Maori\"\n",
        "}\n",
        "\n",
        "quechua_langs = {\"quz\", \"quy\", \"qvi\", \"qug\", \"quw\"}\n",
        "other_langs = {\"yua\", \"gug\", \"tzo\", \"aym\", \"mri\"}"
      ],
      "metadata": {
        "id": "JO7f3QzWvAP-",
        "colab": {
          "base_uri": "https://localhost:8080/"
        },
        "outputId": "de8310e1-790a-4e6f-a8db-bc5bacd42d57"
      },
      "execution_count": 4,
      "outputs": [
        {
          "output_type": "stream",
          "name": "stderr",
          "text": [
            "[nltk_data] Downloading package wordnet to /root/nltk_data...\n",
            "[nltk_data]   Package wordnet is already up-to-date!\n",
            "[nltk_data] Downloading package punkt_tab to /root/nltk_data...\n",
            "[nltk_data]   Package punkt_tab is already up-to-date!\n"
          ]
        }
      ]
    },
    {
      "cell_type": "code",
      "source": [
        "def applyOneHot(df, langs):\n",
        "  result_df = pd.DataFrame()\n",
        "  result_df[\"Sentence\"] = df[\"Sentence\"]\n",
        "\n",
        "  for lang in langs:\n",
        "    result_df[lang] = (df[\"ISO\"] == lang).astype(int)\n",
        "\n",
        "  return result_df"
      ],
      "metadata": {
        "id": "JIiWZ_vTgrXM"
      },
      "execution_count": 5,
      "outputs": []
    },
    {
      "cell_type": "code",
      "source": [
        "df_quechua = df[df['ISO'].isin(quechua_langs)].copy()\n",
        "df_other = df[df['ISO'].isin(other_langs)].copy()\n",
        "\n",
        "df_quechua['Sentence'] = df_quechua['Sentence'].apply(tokenize)\n",
        "df_quechua['Sentence'] = df_quechua['Sentence'].apply(lambda x: ' '.join(x))\n",
        "\n",
        "df_other['Sentence'] = df_other['Sentence'].apply(tokenize)\n",
        "df_other['Sentence'] = df_other['Sentence'].apply(lambda x: ' '.join(x))\n",
        "\n",
        "df_quechua = applyOneHot(df_quechua, quechua_langs)\n",
        "df_other = applyOneHot(df_other, other_langs)"
      ],
      "metadata": {
        "id": "aaJ65pTCexH2"
      },
      "execution_count": 6,
      "outputs": []
    },
    {
      "cell_type": "code",
      "source": [
        "df_quechua['Sentence'] = df_quechua['Sentence'].replace(\"\", np.nan)\n",
        "df_other['Sentence'] = df_other['Sentence'].replace(\"\", np.nan)"
      ],
      "metadata": {
        "id": "awN72mZjWnq5"
      },
      "execution_count": 14,
      "outputs": []
    },
    {
      "cell_type": "code",
      "source": [
        "df_quechua.dropna(subset=['Sentence'], inplace=True)\n",
        "df_other.dropna(subset=['Sentence'], inplace=True)"
      ],
      "metadata": {
        "id": "XlRvcBJqW0jB"
      },
      "execution_count": 15,
      "outputs": []
    },
    {
      "cell_type": "code",
      "source": [
        "df_quechua.info()"
      ],
      "metadata": {
        "colab": {
          "base_uri": "https://localhost:8080/"
        },
        "id": "sKqr4vn6kDyD",
        "outputId": "85826ccb-7ede-4ce6-97dc-e891c79015a9"
      },
      "execution_count": 16,
      "outputs": [
        {
          "output_type": "stream",
          "name": "stdout",
          "text": [
            "<class 'pandas.core.frame.DataFrame'>\n",
            "Index: 326573 entries, 0 to 981109\n",
            "Data columns (total 6 columns):\n",
            " #   Column    Non-Null Count   Dtype \n",
            "---  ------    --------------   ----- \n",
            " 0   Sentence  326573 non-null  object\n",
            " 1   qug       326573 non-null  int64 \n",
            " 2   quy       326573 non-null  int64 \n",
            " 3   quw       326573 non-null  int64 \n",
            " 4   quz       326573 non-null  int64 \n",
            " 5   qvi       326573 non-null  int64 \n",
            "dtypes: int64(5), object(1)\n",
            "memory usage: 17.4+ MB\n"
          ]
        }
      ]
    },
    {
      "cell_type": "code",
      "source": [
        "df_other.info()"
      ],
      "metadata": {
        "colab": {
          "base_uri": "https://localhost:8080/"
        },
        "id": "ARmZLN14kHCd",
        "outputId": "658d4778-5a6b-4393-cea7-71d3663c0980"
      },
      "execution_count": 19,
      "outputs": [
        {
          "output_type": "stream",
          "name": "stdout",
          "text": [
            "<class 'pandas.core.frame.DataFrame'>\n",
            "Index: 652686 entries, 1 to 981119\n",
            "Data columns (total 6 columns):\n",
            " #   Column    Non-Null Count   Dtype \n",
            "---  ------    --------------   ----- \n",
            " 0   Sentence  652686 non-null  object\n",
            " 1   yua       652686 non-null  int64 \n",
            " 2   tzo       652686 non-null  int64 \n",
            " 3   aym       652686 non-null  int64 \n",
            " 4   mri       652686 non-null  int64 \n",
            " 5   gug       652686 non-null  int64 \n",
            "dtypes: int64(5), object(1)\n",
            "memory usage: 34.9+ MB\n"
          ]
        }
      ]
    },
    {
      "cell_type": "code",
      "source": [
        "quechua_columns = [\"quz\", \"quy\", \"qvi\", \"qug\", \"quw\"]\n",
        "df_quechua[quechua_columns].sum()"
      ],
      "metadata": {
        "colab": {
          "base_uri": "https://localhost:8080/",
          "height": 241
        },
        "id": "DZ49Y--Vh2gC",
        "outputId": "ccc307d2-e2eb-47f2-a8b1-0fcc46aeac4e"
      },
      "execution_count": 17,
      "outputs": [
        {
          "output_type": "execute_result",
          "data": {
            "text/plain": [
              "quz    127102\n",
              "quy    113297\n",
              "qvi     50228\n",
              "qug     20272\n",
              "quw     15674\n",
              "dtype: int64"
            ],
            "text/html": [
              "<div>\n",
              "<style scoped>\n",
              "    .dataframe tbody tr th:only-of-type {\n",
              "        vertical-align: middle;\n",
              "    }\n",
              "\n",
              "    .dataframe tbody tr th {\n",
              "        vertical-align: top;\n",
              "    }\n",
              "\n",
              "    .dataframe thead th {\n",
              "        text-align: right;\n",
              "    }\n",
              "</style>\n",
              "<table border=\"1\" class=\"dataframe\">\n",
              "  <thead>\n",
              "    <tr style=\"text-align: right;\">\n",
              "      <th></th>\n",
              "      <th>0</th>\n",
              "    </tr>\n",
              "  </thead>\n",
              "  <tbody>\n",
              "    <tr>\n",
              "      <th>quz</th>\n",
              "      <td>127102</td>\n",
              "    </tr>\n",
              "    <tr>\n",
              "      <th>quy</th>\n",
              "      <td>113297</td>\n",
              "    </tr>\n",
              "    <tr>\n",
              "      <th>qvi</th>\n",
              "      <td>50228</td>\n",
              "    </tr>\n",
              "    <tr>\n",
              "      <th>qug</th>\n",
              "      <td>20272</td>\n",
              "    </tr>\n",
              "    <tr>\n",
              "      <th>quw</th>\n",
              "      <td>15674</td>\n",
              "    </tr>\n",
              "  </tbody>\n",
              "</table>\n",
              "</div><br><label><b>dtype:</b> int64</label>"
            ]
          },
          "metadata": {},
          "execution_count": 17
        }
      ]
    },
    {
      "cell_type": "code",
      "source": [
        "other_columns = [\"yua\", \"gug\", \"tzo\", \"aym\", \"mri\"]\n",
        "df_other[other_columns].sum()"
      ],
      "metadata": {
        "colab": {
          "base_uri": "https://localhost:8080/",
          "height": 241
        },
        "id": "ivmuJvIRil00",
        "outputId": "488e2e1f-f7f7-48e5-b98f-6362ffbfd6d5"
      },
      "execution_count": 18,
      "outputs": [
        {
          "output_type": "execute_result",
          "data": {
            "text/plain": [
              "yua    168090\n",
              "gug    143288\n",
              "tzo    139881\n",
              "aym    138465\n",
              "mri     62962\n",
              "dtype: int64"
            ],
            "text/html": [
              "<div>\n",
              "<style scoped>\n",
              "    .dataframe tbody tr th:only-of-type {\n",
              "        vertical-align: middle;\n",
              "    }\n",
              "\n",
              "    .dataframe tbody tr th {\n",
              "        vertical-align: top;\n",
              "    }\n",
              "\n",
              "    .dataframe thead th {\n",
              "        text-align: right;\n",
              "    }\n",
              "</style>\n",
              "<table border=\"1\" class=\"dataframe\">\n",
              "  <thead>\n",
              "    <tr style=\"text-align: right;\">\n",
              "      <th></th>\n",
              "      <th>0</th>\n",
              "    </tr>\n",
              "  </thead>\n",
              "  <tbody>\n",
              "    <tr>\n",
              "      <th>yua</th>\n",
              "      <td>168090</td>\n",
              "    </tr>\n",
              "    <tr>\n",
              "      <th>gug</th>\n",
              "      <td>143288</td>\n",
              "    </tr>\n",
              "    <tr>\n",
              "      <th>tzo</th>\n",
              "      <td>139881</td>\n",
              "    </tr>\n",
              "    <tr>\n",
              "      <th>aym</th>\n",
              "      <td>138465</td>\n",
              "    </tr>\n",
              "    <tr>\n",
              "      <th>mri</th>\n",
              "      <td>62962</td>\n",
              "    </tr>\n",
              "  </tbody>\n",
              "</table>\n",
              "</div><br><label><b>dtype:</b> int64</label>"
            ]
          },
          "metadata": {},
          "execution_count": 18
        }
      ]
    },
    {
      "cell_type": "code",
      "source": [
        "df_quechua.to_csv((f\"{basePath}/quechua_labeled_corpus.csv\"), index=False, encoding=\"utf-8\")\n",
        "df_other.to_csv((f\"{basePath}/other_labeled_corpus.csv\"), index=False, encoding=\"utf-8\")"
      ],
      "metadata": {
        "id": "vWCSifONMqgb"
      },
      "execution_count": 20,
      "outputs": []
    },
    {
      "cell_type": "code",
      "source": [
        "df_labeled_quechua = pd.read_csv(f\"{basePath}/quechua_labeled_corpus.csv\", encoding=\"utf-8\")\n",
        "df_labeled_other = pd.read_csv(f\"{basePath}/other_labeled_corpus.csv\", encoding=\"utf-8\")"
      ],
      "metadata": {
        "id": "pcHvxBr_PEGO"
      },
      "execution_count": 21,
      "outputs": []
    },
    {
      "cell_type": "code",
      "source": [
        "df_labeled_quechua.info()"
      ],
      "metadata": {
        "colab": {
          "base_uri": "https://localhost:8080/"
        },
        "id": "41tDFKctOz75",
        "outputId": "1ad044d9-0a9c-4244-be50-f6d3c2576204"
      },
      "execution_count": 22,
      "outputs": [
        {
          "output_type": "stream",
          "name": "stdout",
          "text": [
            "<class 'pandas.core.frame.DataFrame'>\n",
            "RangeIndex: 326573 entries, 0 to 326572\n",
            "Data columns (total 6 columns):\n",
            " #   Column    Non-Null Count   Dtype \n",
            "---  ------    --------------   ----- \n",
            " 0   Sentence  326573 non-null  object\n",
            " 1   qug       326573 non-null  int64 \n",
            " 2   quy       326573 non-null  int64 \n",
            " 3   quw       326573 non-null  int64 \n",
            " 4   quz       326573 non-null  int64 \n",
            " 5   qvi       326573 non-null  int64 \n",
            "dtypes: int64(5), object(1)\n",
            "memory usage: 14.9+ MB\n"
          ]
        }
      ]
    },
    {
      "cell_type": "code",
      "source": [
        "df_labeled_other.info()"
      ],
      "metadata": {
        "colab": {
          "base_uri": "https://localhost:8080/"
        },
        "id": "CQ50o5fkRVqi",
        "outputId": "4cb4f85d-167f-447b-a8b7-e2b47ef2aeec"
      },
      "execution_count": 23,
      "outputs": [
        {
          "output_type": "stream",
          "name": "stdout",
          "text": [
            "<class 'pandas.core.frame.DataFrame'>\n",
            "RangeIndex: 652686 entries, 0 to 652685\n",
            "Data columns (total 6 columns):\n",
            " #   Column    Non-Null Count   Dtype \n",
            "---  ------    --------------   ----- \n",
            " 0   Sentence  652686 non-null  object\n",
            " 1   yua       652686 non-null  int64 \n",
            " 2   tzo       652686 non-null  int64 \n",
            " 3   aym       652686 non-null  int64 \n",
            " 4   mri       652686 non-null  int64 \n",
            " 5   gug       652686 non-null  int64 \n",
            "dtypes: int64(5), object(1)\n",
            "memory usage: 29.9+ MB\n"
          ]
        }
      ]
    },
    {
      "cell_type": "markdown",
      "source": [
        "## Red Neuronal Profunda"
      ],
      "metadata": {
        "id": "U9u6Re4XidfR"
      }
    },
    {
      "cell_type": "code",
      "source": [
        "import pandas as pd\n",
        "import numpy as np\n",
        "from sklearn.model_selection import train_test_split\n",
        "from sklearn.feature_extraction.text import TfidfVectorizer\n",
        "from tensorflow.keras.models import Sequential\n",
        "from tensorflow.keras.layers import Dense, Dropout, Input\n",
        "from tensorflow.keras.optimizers import Adam\n",
        "import matplotlib.pyplot as plt\n",
        "from tensorflow.keras.callbacks import EarlyStopping\n",
        "from sklearn.metrics import confusion_matrix\n",
        "import seaborn as sns"
      ],
      "metadata": {
        "id": "Pczr0I9Jige0"
      },
      "execution_count": 14,
      "outputs": []
    },
    {
      "cell_type": "code",
      "source": [
        "basePath = \"/content/drive/MyDrive/corpus_quechua\"\n",
        "df_quechua_labeled = pd.read_csv(f\"{basePath}/quechua_labeled_corpus.csv\")"
      ],
      "metadata": {
        "id": "P2WJlrCtiiTf"
      },
      "execution_count": 2,
      "outputs": []
    },
    {
      "cell_type": "code",
      "source": [
        "df_quechua_labeled.info()"
      ],
      "metadata": {
        "colab": {
          "base_uri": "https://localhost:8080/"
        },
        "id": "XM9kSYDTj_N3",
        "outputId": "185fd967-2b64-4d8e-86cf-525180739337"
      },
      "execution_count": 3,
      "outputs": [
        {
          "output_type": "stream",
          "name": "stdout",
          "text": [
            "<class 'pandas.core.frame.DataFrame'>\n",
            "RangeIndex: 326573 entries, 0 to 326572\n",
            "Data columns (total 6 columns):\n",
            " #   Column    Non-Null Count   Dtype \n",
            "---  ------    --------------   ----- \n",
            " 0   Sentence  326573 non-null  object\n",
            " 1   qug       326573 non-null  int64 \n",
            " 2   quy       326573 non-null  int64 \n",
            " 3   quw       326573 non-null  int64 \n",
            " 4   quz       326573 non-null  int64 \n",
            " 5   qvi       326573 non-null  int64 \n",
            "dtypes: int64(5), object(1)\n",
            "memory usage: 14.9+ MB\n"
          ]
        }
      ]
    },
    {
      "cell_type": "code",
      "source": [
        "df_quechua_labeled.head()"
      ],
      "metadata": {
        "colab": {
          "base_uri": "https://localhost:8080/",
          "height": 206
        },
        "id": "SXFAMAfjjDBR",
        "outputId": "0e54a01d-f48a-4f6f-953c-a7b7b31b0fba"
      },
      "execution_count": 4,
      "outputs": [
        {
          "output_type": "execute_result",
          "data": {
            "text/plain": [
              "                                            Sentence  qug  quy  quw  quz  qvi\n",
              "0                                 allinta uyariychis    0    0    0    1    0\n",
              "1    inculquen en sus hijos valores que los protejan    0    0    0    1    0\n",
              "2  llaqtaykin llaqtay kanqa diosniykin diosniy kanqa    0    0    0    1    0\n",
              "3                         mamay ratollachu kutimunki    0    0    0    1    0\n",
              "4  paqarisnintaq moisesqa llaqtata nirqan anchata...    0    0    0    1    0"
            ],
            "text/html": [
              "\n",
              "  <div id=\"df-1bb75cb0-aca8-4e58-bfe3-96d127c8adfd\" class=\"colab-df-container\">\n",
              "    <div>\n",
              "<style scoped>\n",
              "    .dataframe tbody tr th:only-of-type {\n",
              "        vertical-align: middle;\n",
              "    }\n",
              "\n",
              "    .dataframe tbody tr th {\n",
              "        vertical-align: top;\n",
              "    }\n",
              "\n",
              "    .dataframe thead th {\n",
              "        text-align: right;\n",
              "    }\n",
              "</style>\n",
              "<table border=\"1\" class=\"dataframe\">\n",
              "  <thead>\n",
              "    <tr style=\"text-align: right;\">\n",
              "      <th></th>\n",
              "      <th>Sentence</th>\n",
              "      <th>qug</th>\n",
              "      <th>quy</th>\n",
              "      <th>quw</th>\n",
              "      <th>quz</th>\n",
              "      <th>qvi</th>\n",
              "    </tr>\n",
              "  </thead>\n",
              "  <tbody>\n",
              "    <tr>\n",
              "      <th>0</th>\n",
              "      <td>allinta uyariychis</td>\n",
              "      <td>0</td>\n",
              "      <td>0</td>\n",
              "      <td>0</td>\n",
              "      <td>1</td>\n",
              "      <td>0</td>\n",
              "    </tr>\n",
              "    <tr>\n",
              "      <th>1</th>\n",
              "      <td>inculquen en sus hijos valores que los protejan</td>\n",
              "      <td>0</td>\n",
              "      <td>0</td>\n",
              "      <td>0</td>\n",
              "      <td>1</td>\n",
              "      <td>0</td>\n",
              "    </tr>\n",
              "    <tr>\n",
              "      <th>2</th>\n",
              "      <td>llaqtaykin llaqtay kanqa diosniykin diosniy kanqa</td>\n",
              "      <td>0</td>\n",
              "      <td>0</td>\n",
              "      <td>0</td>\n",
              "      <td>1</td>\n",
              "      <td>0</td>\n",
              "    </tr>\n",
              "    <tr>\n",
              "      <th>3</th>\n",
              "      <td>mamay ratollachu kutimunki</td>\n",
              "      <td>0</td>\n",
              "      <td>0</td>\n",
              "      <td>0</td>\n",
              "      <td>1</td>\n",
              "      <td>0</td>\n",
              "    </tr>\n",
              "    <tr>\n",
              "      <th>4</th>\n",
              "      <td>paqarisnintaq moisesqa llaqtata nirqan anchata...</td>\n",
              "      <td>0</td>\n",
              "      <td>0</td>\n",
              "      <td>0</td>\n",
              "      <td>1</td>\n",
              "      <td>0</td>\n",
              "    </tr>\n",
              "  </tbody>\n",
              "</table>\n",
              "</div>\n",
              "    <div class=\"colab-df-buttons\">\n",
              "\n",
              "  <div class=\"colab-df-container\">\n",
              "    <button class=\"colab-df-convert\" onclick=\"convertToInteractive('df-1bb75cb0-aca8-4e58-bfe3-96d127c8adfd')\"\n",
              "            title=\"Convert this dataframe to an interactive table.\"\n",
              "            style=\"display:none;\">\n",
              "\n",
              "  <svg xmlns=\"http://www.w3.org/2000/svg\" height=\"24px\" viewBox=\"0 -960 960 960\">\n",
              "    <path d=\"M120-120v-720h720v720H120Zm60-500h600v-160H180v160Zm220 220h160v-160H400v160Zm0 220h160v-160H400v160ZM180-400h160v-160H180v160Zm440 0h160v-160H620v160ZM180-180h160v-160H180v160Zm440 0h160v-160H620v160Z\"/>\n",
              "  </svg>\n",
              "    </button>\n",
              "\n",
              "  <style>\n",
              "    .colab-df-container {\n",
              "      display:flex;\n",
              "      gap: 12px;\n",
              "    }\n",
              "\n",
              "    .colab-df-convert {\n",
              "      background-color: #E8F0FE;\n",
              "      border: none;\n",
              "      border-radius: 50%;\n",
              "      cursor: pointer;\n",
              "      display: none;\n",
              "      fill: #1967D2;\n",
              "      height: 32px;\n",
              "      padding: 0 0 0 0;\n",
              "      width: 32px;\n",
              "    }\n",
              "\n",
              "    .colab-df-convert:hover {\n",
              "      background-color: #E2EBFA;\n",
              "      box-shadow: 0px 1px 2px rgba(60, 64, 67, 0.3), 0px 1px 3px 1px rgba(60, 64, 67, 0.15);\n",
              "      fill: #174EA6;\n",
              "    }\n",
              "\n",
              "    .colab-df-buttons div {\n",
              "      margin-bottom: 4px;\n",
              "    }\n",
              "\n",
              "    [theme=dark] .colab-df-convert {\n",
              "      background-color: #3B4455;\n",
              "      fill: #D2E3FC;\n",
              "    }\n",
              "\n",
              "    [theme=dark] .colab-df-convert:hover {\n",
              "      background-color: #434B5C;\n",
              "      box-shadow: 0px 1px 3px 1px rgba(0, 0, 0, 0.15);\n",
              "      filter: drop-shadow(0px 1px 2px rgba(0, 0, 0, 0.3));\n",
              "      fill: #FFFFFF;\n",
              "    }\n",
              "  </style>\n",
              "\n",
              "    <script>\n",
              "      const buttonEl =\n",
              "        document.querySelector('#df-1bb75cb0-aca8-4e58-bfe3-96d127c8adfd button.colab-df-convert');\n",
              "      buttonEl.style.display =\n",
              "        google.colab.kernel.accessAllowed ? 'block' : 'none';\n",
              "\n",
              "      async function convertToInteractive(key) {\n",
              "        const element = document.querySelector('#df-1bb75cb0-aca8-4e58-bfe3-96d127c8adfd');\n",
              "        const dataTable =\n",
              "          await google.colab.kernel.invokeFunction('convertToInteractive',\n",
              "                                                    [key], {});\n",
              "        if (!dataTable) return;\n",
              "\n",
              "        const docLinkHtml = 'Like what you see? Visit the ' +\n",
              "          '<a target=\"_blank\" href=https://colab.research.google.com/notebooks/data_table.ipynb>data table notebook</a>'\n",
              "          + ' to learn more about interactive tables.';\n",
              "        element.innerHTML = '';\n",
              "        dataTable['output_type'] = 'display_data';\n",
              "        await google.colab.output.renderOutput(dataTable, element);\n",
              "        const docLink = document.createElement('div');\n",
              "        docLink.innerHTML = docLinkHtml;\n",
              "        element.appendChild(docLink);\n",
              "      }\n",
              "    </script>\n",
              "  </div>\n",
              "\n",
              "\n",
              "    <div id=\"df-711ba429-77d2-4082-a2ca-6459c8294d12\">\n",
              "      <button class=\"colab-df-quickchart\" onclick=\"quickchart('df-711ba429-77d2-4082-a2ca-6459c8294d12')\"\n",
              "                title=\"Suggest charts\"\n",
              "                style=\"display:none;\">\n",
              "\n",
              "<svg xmlns=\"http://www.w3.org/2000/svg\" height=\"24px\"viewBox=\"0 0 24 24\"\n",
              "     width=\"24px\">\n",
              "    <g>\n",
              "        <path d=\"M19 3H5c-1.1 0-2 .9-2 2v14c0 1.1.9 2 2 2h14c1.1 0 2-.9 2-2V5c0-1.1-.9-2-2-2zM9 17H7v-7h2v7zm4 0h-2V7h2v10zm4 0h-2v-4h2v4z\"/>\n",
              "    </g>\n",
              "</svg>\n",
              "      </button>\n",
              "\n",
              "<style>\n",
              "  .colab-df-quickchart {\n",
              "      --bg-color: #E8F0FE;\n",
              "      --fill-color: #1967D2;\n",
              "      --hover-bg-color: #E2EBFA;\n",
              "      --hover-fill-color: #174EA6;\n",
              "      --disabled-fill-color: #AAA;\n",
              "      --disabled-bg-color: #DDD;\n",
              "  }\n",
              "\n",
              "  [theme=dark] .colab-df-quickchart {\n",
              "      --bg-color: #3B4455;\n",
              "      --fill-color: #D2E3FC;\n",
              "      --hover-bg-color: #434B5C;\n",
              "      --hover-fill-color: #FFFFFF;\n",
              "      --disabled-bg-color: #3B4455;\n",
              "      --disabled-fill-color: #666;\n",
              "  }\n",
              "\n",
              "  .colab-df-quickchart {\n",
              "    background-color: var(--bg-color);\n",
              "    border: none;\n",
              "    border-radius: 50%;\n",
              "    cursor: pointer;\n",
              "    display: none;\n",
              "    fill: var(--fill-color);\n",
              "    height: 32px;\n",
              "    padding: 0;\n",
              "    width: 32px;\n",
              "  }\n",
              "\n",
              "  .colab-df-quickchart:hover {\n",
              "    background-color: var(--hover-bg-color);\n",
              "    box-shadow: 0 1px 2px rgba(60, 64, 67, 0.3), 0 1px 3px 1px rgba(60, 64, 67, 0.15);\n",
              "    fill: var(--button-hover-fill-color);\n",
              "  }\n",
              "\n",
              "  .colab-df-quickchart-complete:disabled,\n",
              "  .colab-df-quickchart-complete:disabled:hover {\n",
              "    background-color: var(--disabled-bg-color);\n",
              "    fill: var(--disabled-fill-color);\n",
              "    box-shadow: none;\n",
              "  }\n",
              "\n",
              "  .colab-df-spinner {\n",
              "    border: 2px solid var(--fill-color);\n",
              "    border-color: transparent;\n",
              "    border-bottom-color: var(--fill-color);\n",
              "    animation:\n",
              "      spin 1s steps(1) infinite;\n",
              "  }\n",
              "\n",
              "  @keyframes spin {\n",
              "    0% {\n",
              "      border-color: transparent;\n",
              "      border-bottom-color: var(--fill-color);\n",
              "      border-left-color: var(--fill-color);\n",
              "    }\n",
              "    20% {\n",
              "      border-color: transparent;\n",
              "      border-left-color: var(--fill-color);\n",
              "      border-top-color: var(--fill-color);\n",
              "    }\n",
              "    30% {\n",
              "      border-color: transparent;\n",
              "      border-left-color: var(--fill-color);\n",
              "      border-top-color: var(--fill-color);\n",
              "      border-right-color: var(--fill-color);\n",
              "    }\n",
              "    40% {\n",
              "      border-color: transparent;\n",
              "      border-right-color: var(--fill-color);\n",
              "      border-top-color: var(--fill-color);\n",
              "    }\n",
              "    60% {\n",
              "      border-color: transparent;\n",
              "      border-right-color: var(--fill-color);\n",
              "    }\n",
              "    80% {\n",
              "      border-color: transparent;\n",
              "      border-right-color: var(--fill-color);\n",
              "      border-bottom-color: var(--fill-color);\n",
              "    }\n",
              "    90% {\n",
              "      border-color: transparent;\n",
              "      border-bottom-color: var(--fill-color);\n",
              "    }\n",
              "  }\n",
              "</style>\n",
              "\n",
              "      <script>\n",
              "        async function quickchart(key) {\n",
              "          const quickchartButtonEl =\n",
              "            document.querySelector('#' + key + ' button');\n",
              "          quickchartButtonEl.disabled = true;  // To prevent multiple clicks.\n",
              "          quickchartButtonEl.classList.add('colab-df-spinner');\n",
              "          try {\n",
              "            const charts = await google.colab.kernel.invokeFunction(\n",
              "                'suggestCharts', [key], {});\n",
              "          } catch (error) {\n",
              "            console.error('Error during call to suggestCharts:', error);\n",
              "          }\n",
              "          quickchartButtonEl.classList.remove('colab-df-spinner');\n",
              "          quickchartButtonEl.classList.add('colab-df-quickchart-complete');\n",
              "        }\n",
              "        (() => {\n",
              "          let quickchartButtonEl =\n",
              "            document.querySelector('#df-711ba429-77d2-4082-a2ca-6459c8294d12 button');\n",
              "          quickchartButtonEl.style.display =\n",
              "            google.colab.kernel.accessAllowed ? 'block' : 'none';\n",
              "        })();\n",
              "      </script>\n",
              "    </div>\n",
              "\n",
              "    </div>\n",
              "  </div>\n"
            ],
            "application/vnd.google.colaboratory.intrinsic+json": {
              "type": "dataframe",
              "variable_name": "df_quechua_labeled"
            }
          },
          "metadata": {},
          "execution_count": 4
        }
      ]
    },
    {
      "cell_type": "code",
      "source": [
        "X_text = df_quechua_labeled['Sentence'].values\n",
        "y = df_quechua_labeled[['qug', 'quy', 'quw', 'quz', 'qvi']].values"
      ],
      "metadata": {
        "id": "Wdo_LyPajFwv"
      },
      "execution_count": 5,
      "outputs": []
    },
    {
      "cell_type": "code",
      "source": [
        "vectorizer = TfidfVectorizer(max_features=1000)\n",
        "X = vectorizer.fit_transform(X_text).toarray()"
      ],
      "metadata": {
        "id": "kPw8Y4cMkVni"
      },
      "execution_count": 6,
      "outputs": []
    },
    {
      "cell_type": "code",
      "source": [
        "X_train, X_test, y_train, y_test = train_test_split(X, y, test_size=0.2, random_state=42)"
      ],
      "metadata": {
        "id": "AK-SCWz3kYje"
      },
      "execution_count": 7,
      "outputs": []
    },
    {
      "cell_type": "code",
      "source": [
        "X_train.shape[1]"
      ],
      "metadata": {
        "colab": {
          "base_uri": "https://localhost:8080/"
        },
        "id": "ZtnmIN4vbeoZ",
        "outputId": "e2249c76-89b5-423a-e224-8bb50ed582e1"
      },
      "execution_count": 8,
      "outputs": [
        {
          "output_type": "execute_result",
          "data": {
            "text/plain": [
              "1000"
            ]
          },
          "metadata": {},
          "execution_count": 8
        }
      ]
    },
    {
      "cell_type": "code",
      "source": [
        "model = Sequential([\n",
        "    Input(shape=(X_train.shape[1],)),\n",
        "    Dense(100, activation='relu'),\n",
        "    Dense(5, activation='softmax')\n",
        "])\n",
        "\n",
        "early_stop = EarlyStopping(monitor='val_loss', patience=3, restore_best_weights=True)\n",
        "\n",
        "model.compile(optimizer=Adam(learning_rate=0.01),\n",
        "              loss='categorical_crossentropy',\n",
        "              metrics=['accuracy'])\n",
        "\n",
        "history = model.fit(X_train, y_train,\n",
        "                    epochs=10,\n",
        "                    batch_size=128,\n",
        "                    validation_data=(X_test, y_test),\n",
        "                    callbacks=[early_stop]\n",
        ")\n",
        "\n",
        "loss, accuracy = model.evaluate(X_test, y_test)"
      ],
      "metadata": {
        "colab": {
          "base_uri": "https://localhost:8080/"
        },
        "id": "uF2taSw0ka3U",
        "outputId": "926bde8f-a8bd-4e0c-f805-bb6604c1b5e6"
      },
      "execution_count": 9,
      "outputs": [
        {
          "output_type": "stream",
          "name": "stdout",
          "text": [
            "Epoch 1/10\n",
            "\u001b[1m2042/2042\u001b[0m \u001b[32m━━━━━━━━━━━━━━━━━━━━\u001b[0m\u001b[37m\u001b[0m \u001b[1m17s\u001b[0m 8ms/step - accuracy: 0.8675 - loss: 0.2957 - val_accuracy: 0.8879 - val_loss: 0.2187\n",
            "Epoch 2/10\n",
            "\u001b[1m2042/2042\u001b[0m \u001b[32m━━━━━━━━━━━━━━━━━━━━\u001b[0m\u001b[37m\u001b[0m \u001b[1m19s\u001b[0m 7ms/step - accuracy: 0.8946 - loss: 0.2102 - val_accuracy: 0.8904 - val_loss: 0.2145\n",
            "Epoch 3/10\n",
            "\u001b[1m2042/2042\u001b[0m \u001b[32m━━━━━━━━━━━━━━━━━━━━\u001b[0m\u001b[37m\u001b[0m \u001b[1m27s\u001b[0m 10ms/step - accuracy: 0.8984 - loss: 0.2029 - val_accuracy: 0.8914 - val_loss: 0.2144\n",
            "Epoch 4/10\n",
            "\u001b[1m2042/2042\u001b[0m \u001b[32m━━━━━━━━━━━━━━━━━━━━\u001b[0m\u001b[37m\u001b[0m \u001b[1m34s\u001b[0m 7ms/step - accuracy: 0.9035 - loss: 0.1941 - val_accuracy: 0.8926 - val_loss: 0.2146\n",
            "Epoch 5/10\n",
            "\u001b[1m2042/2042\u001b[0m \u001b[32m━━━━━━━━━━━━━━━━━━━━\u001b[0m\u001b[37m\u001b[0m \u001b[1m22s\u001b[0m 7ms/step - accuracy: 0.9075 - loss: 0.1866 - val_accuracy: 0.8915 - val_loss: 0.2171\n",
            "Epoch 6/10\n",
            "\u001b[1m2042/2042\u001b[0m \u001b[32m━━━━━━━━━━━━━━━━━━━━\u001b[0m\u001b[37m\u001b[0m \u001b[1m16s\u001b[0m 8ms/step - accuracy: 0.9105 - loss: 0.1820 - val_accuracy: 0.8911 - val_loss: 0.2204\n",
            "\u001b[1m2042/2042\u001b[0m \u001b[32m━━━━━━━━━━━━━━━━━━━━\u001b[0m\u001b[37m\u001b[0m \u001b[1m6s\u001b[0m 3ms/step - accuracy: 0.8921 - loss: 0.2138\n"
          ]
        }
      ]
    },
    {
      "cell_type": "code",
      "source": [
        "plt.plot(history.history['accuracy'], label='Precisión (entrenamiento)')\n",
        "plt.plot(history.history['val_accuracy'], label='Precisión (validación)')\n",
        "plt.title('Precisión del modelo durante el entrenamiento')\n",
        "plt.xlabel('Época')\n",
        "plt.ylabel('Precisión')\n",
        "plt.legend()\n",
        "plt.show()"
      ],
      "metadata": {
        "colab": {
          "base_uri": "https://localhost:8080/",
          "height": 474
        },
        "id": "L_pgoiH4ZyJG",
        "outputId": "bbeaaa49-4388-4c3c-c71a-d58b2bebb218"
      },
      "execution_count": 11,
      "outputs": [
        {
          "output_type": "display_data",
          "data": {
            "text/plain": [
              "<Figure size 640x480 with 1 Axes>"
            ],
            "image/png": "[encoded data removed]"
          },
          "metadata": {}
        }
      ]
    },
    {
      "cell_type": "code",
      "source": [
        "y_pred = model.predict(X_test)\n",
        "y_pred_classes = np.argmax(y_pred, axis=1)\n",
        "y_test_classes = np.argmax(y_test, axis=1)\n",
        "\n",
        "cm = confusion_matrix(y_test_classes, y_pred_classes)\n",
        "class_names = ['qug', 'quy', 'quw', 'quz', 'qvi']"
      ],
      "metadata": {
        "colab": {
          "base_uri": "https://localhost:8080/"
        },
        "id": "5QGnHizServK",
        "outputId": "4763e703-58d4-4d48-b8c0-3f36cc139c7f"
      },
      "execution_count": 13,
      "outputs": [
        {
          "output_type": "stream",
          "name": "stdout",
          "text": [
            "\u001b[1m2042/2042\u001b[0m \u001b[32m━━━━━━━━━━━━━━━━━━━━\u001b[0m\u001b[37m\u001b[0m \u001b[1m4s\u001b[0m 2ms/step\n"
          ]
        }
      ]
    },
    {
      "cell_type": "code",
      "source": [
        "plt.figure(figsize=(8, 6))\n",
        "sns.heatmap(cm, annot=True, fmt='d', cmap='Blues', xticklabels=class_names, yticklabels=class_names)\n",
        "plt.title('Matriz de Confusión')\n",
        "plt.xlabel('Predicción')\n",
        "plt.ylabel('Etiqueta Real')\n",
        "plt.show()"
      ],
      "metadata": {
        "colab": {
          "base_uri": "https://localhost:8080/",
          "height": 564
        },
        "id": "miAJD2f5ezy-",
        "outputId": "448decd4-9678-4824-eb1d-167303751d17"
      },
      "execution_count": 15,
      "outputs": [
        {
          "output_type": "display_data",
          "data": {
            "text/plain": [
              "<Figure size 800x600 with 2 Axes>"
            ],
            "image/png": "[encoded data removed]"
          },
          "metadata": {}
        }
      ]
    }
  ]
}